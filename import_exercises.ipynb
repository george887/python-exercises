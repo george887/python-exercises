{
 "cells": [
  {
   "cell_type": "code",
   "execution_count": 1,
   "metadata": {},
   "outputs": [],
   "source": [
    "# Import and test 3 of the functions from your functions exercise file.\n",
    "\n",
    "# Import each function in a different way:\n",
    "import function_exercises"
   ]
  },
  {
   "cell_type": "code",
   "execution_count": 4,
   "metadata": {},
   "outputs": [
    {
     "data": {
      "text/plain": [
       "True"
      ]
     },
     "execution_count": 4,
     "metadata": {},
     "output_type": "execute_result"
    }
   ],
   "source": [
    "# import the module and refer to the function with the . syntax\n",
    "function_exercises.is_vowel(\"a\")"
   ]
  },
  {
   "cell_type": "code",
   "execution_count": 5,
   "metadata": {},
   "outputs": [],
   "source": [
    "# use from to import the function directly\n",
    "from function_exercises import is_vowel"
   ]
  },
  {
   "cell_type": "code",
   "execution_count": 6,
   "metadata": {},
   "outputs": [
    {
     "data": {
      "text/plain": [
       "False"
      ]
     },
     "execution_count": 6,
     "metadata": {},
     "output_type": "execute_result"
    }
   ],
   "source": [
    "is_vowel(\"Q\")"
   ]
  },
  {
   "cell_type": "code",
   "execution_count": 7,
   "metadata": {},
   "outputs": [],
   "source": [
    "# use from and give the function a different name\n",
    "from function_exercises import is_vowel as i_v"
   ]
  },
  {
   "cell_type": "code",
   "execution_count": 8,
   "metadata": {},
   "outputs": [
    {
     "data": {
      "text/plain": [
       "True"
      ]
     },
     "execution_count": 8,
     "metadata": {},
     "output_type": "execute_result"
    }
   ],
   "source": [
    "i_v(\"E\")"
   ]
  },
  {
   "cell_type": "code",
   "execution_count": 26,
   "metadata": {},
   "outputs": [],
   "source": [
    "# For the following exercises, read about and use the itertools module from the standard library to help you \n",
    "# solve the problem.\n",
    "\n",
    "import itertools"
   ]
  },
  {
   "cell_type": "code",
   "execution_count": 46,
   "metadata": {},
   "outputs": [
    {
     "data": {
      "text/plain": [
       "[('a', '1'),\n",
       " ('a', '2'),\n",
       " ('a', '3'),\n",
       " ('b', '1'),\n",
       " ('b', '2'),\n",
       " ('b', '3'),\n",
       " ('c', '1'),\n",
       " ('c', '2'),\n",
       " ('c', '3')]"
      ]
     },
     "execution_count": 46,
     "metadata": {},
     "output_type": "execute_result"
    }
   ],
   "source": [
    "# How many different ways can you combine the letters from \"abc\" with the numbers 1, 2, and 3?\n",
    "list1 = [\"a\",\"b\",\"c\"]\n",
    "list2 = [\"1\",\"2\",\"3\"]\n",
    "list3 = list(itertools.product(list1,list2))\n",
    "list3"
   ]
  },
  {
   "cell_type": "code",
   "execution_count": 47,
   "metadata": {},
   "outputs": [
    {
     "data": {
      "text/plain": [
       "9"
      ]
     },
     "execution_count": 47,
     "metadata": {},
     "output_type": "execute_result"
    }
   ],
   "source": [
    "len(list3)"
   ]
  },
  {
   "cell_type": "code",
   "execution_count": 56,
   "metadata": {},
   "outputs": [
    {
     "data": {
      "text/plain": [
       "[('a', 'b'), ('a', 'c'), ('a', 'd'), ('b', 'c'), ('b', 'd'), ('c', 'd')]"
      ]
     },
     "execution_count": 56,
     "metadata": {},
     "output_type": "execute_result"
    }
   ],
   "source": [
    "# How many different ways can you combine two of the letters from \"abcd\"?\n",
    "list4 = [\"a\",\"b\",\"c\",\"d\"]\n",
    "list5 = list(itertools.combinations(list4,2))\n",
    "list5"
   ]
  },
  {
   "cell_type": "code",
   "execution_count": 57,
   "metadata": {},
   "outputs": [
    {
     "data": {
      "text/plain": [
       "6"
      ]
     },
     "execution_count": 57,
     "metadata": {},
     "output_type": "execute_result"
    }
   ],
   "source": [
    "len(list5)"
   ]
  },
  {
   "cell_type": "code",
   "execution_count": 65,
   "metadata": {},
   "outputs": [
    {
     "data": {
      "text/plain": [
       "[('a', 'b'),\n",
       " ('a', 'c'),\n",
       " ('a', 'd'),\n",
       " ('b', 'a'),\n",
       " ('b', 'c'),\n",
       " ('b', 'd'),\n",
       " ('c', 'a'),\n",
       " ('c', 'b'),\n",
       " ('c', 'd'),\n",
       " ('d', 'a'),\n",
       " ('d', 'b'),\n",
       " ('d', 'c')]"
      ]
     },
     "execution_count": 65,
     "metadata": {},
     "output_type": "execute_result"
    }
   ],
   "source": [
    "# Used permutations to see all possible outcomes\n",
    "list6 = list(itertools.permutations(list4,2))\n",
    "list6"
   ]
  },
  {
   "cell_type": "code",
   "execution_count": 66,
   "metadata": {},
   "outputs": [
    {
     "data": {
      "text/plain": [
       "12"
      ]
     },
     "execution_count": 66,
     "metadata": {},
     "output_type": "execute_result"
    }
   ],
   "source": [
    "len(list6)"
   ]
  },
  {
   "cell_type": "code",
   "execution_count": 70,
   "metadata": {},
   "outputs": [],
   "source": [
    "# Save this file as profiles.json inside of your exercises directory. Use the load function from the json \n",
    "# module to open this file, it will produce a list of dictionaries. Using this data, write some code that \n",
    "# calculates and outputs the following information:\n",
    "\n",
    "import json #importing json\n",
    "\n",
    "f = open('profiles.json') # creating a variable to store json\n",
    "\n",
    "data = json.load(f) # using load function to open json\n"
   ]
  },
  {
   "cell_type": "code",
   "execution_count": 74,
   "metadata": {},
   "outputs": [
    {
     "data": {
      "text/plain": [
       "19"
      ]
     },
     "execution_count": 74,
     "metadata": {},
     "output_type": "execute_result"
    }
   ],
   "source": [
    "# Total number of users\n",
    "id_count = len([i['_id'] for i in data]) # using len function to count _id in the json data set\n",
    "id_count"
   ]
  },
  {
   "cell_type": "code",
   "execution_count": 82,
   "metadata": {},
   "outputs": [
    {
     "data": {
      "text/plain": [
       "9"
      ]
     },
     "execution_count": 82,
     "metadata": {},
     "output_type": "execute_result"
    }
   ],
   "source": [
    "# Number of active users\n",
    "# using len function to count isActive in the json data set if isActive is True\n",
    "active_users = (len([i[\"isActive\"] for i in data if i[\"isActive\"] == True]))\n",
    "active_users"
   ]
  },
  {
   "cell_type": "code",
   "execution_count": 83,
   "metadata": {},
   "outputs": [
    {
     "data": {
      "text/plain": [
       "10"
      ]
     },
     "execution_count": 83,
     "metadata": {},
     "output_type": "execute_result"
    }
   ],
   "source": [
    "# Number of inactive users\n",
    "inactive_users = (len([i[\"isActive\"] for i in data if i[\"isActive\"] == False]))\n",
    "inactive_users\n"
   ]
  },
  {
   "cell_type": "code",
   "execution_count": 130,
   "metadata": {},
   "outputs": [
    {
     "data": {
      "text/plain": [
       "52667.02"
      ]
     },
     "execution_count": 130,
     "metadata": {},
     "output_type": "execute_result"
    }
   ],
   "source": [
    "# Grand total of balances for all users\n",
    "# converting strings into floats and replacing the comma and $ to sum up the floats\n",
    "totals = [float(i[\"balance\"].replace(\",\",\"\").replace(\"$\",\"\")) for i in data]\n",
    "grand_total = sum(totals)\n",
    "grand_total\n"
   ]
  },
  {
   "cell_type": "code",
   "execution_count": 146,
   "metadata": {},
   "outputs": [
    {
     "data": {
      "text/plain": [
       "52667.02"
      ]
     },
     "execution_count": 146,
     "metadata": {},
     "output_type": "execute_result"
    }
   ],
   "source": [
    "totals = [i[\"balance\"]for i in data]\n",
    "\n",
    "totals = [balance.replace(\",\",\"\") for balance in totals]\n",
    "totals = [balance.replace(\"$\", \"\") for balance in totals]\n",
    "totals = [float(balance) for balance in totals]\n",
    "sum(totals)"
   ]
  },
  {
   "cell_type": "code",
   "execution_count": 116,
   "metadata": {},
   "outputs": [
    {
     "data": {
      "text/plain": [
       "52667.02"
      ]
     },
     "execution_count": 116,
     "metadata": {},
     "output_type": "execute_result"
    }
   ],
   "source": [
    "# another approach\n",
    "def total_balance():\n",
    "        total = 0\n",
    "        for i in data:\n",
    "                total += float(i['balance'].replace(\",\", '').replace(\"$\", \"\"))  \n",
    "        return total\n",
    "total_balance()"
   ]
  },
  {
   "cell_type": "code",
   "execution_count": 129,
   "metadata": {},
   "outputs": [
    {
     "data": {
      "text/plain": [
       "2771.9484210526316"
      ]
     },
     "execution_count": 129,
     "metadata": {},
     "output_type": "execute_result"
    }
   ],
   "source": [
    "# Average balance per user\n",
    "# converting the strings into floats to get the data in float form\n",
    "totals = [float(i[\"balance\"].replace(\",\",\"\").replace(\"$\",\"\")) for i in data]\n",
    "# summing up the totals\n",
    "grand_total = sum(totals)\n",
    "#getting the average balance using the code used to figure how many users there are\n",
    "avg_balance = grand_total/len([i['_id'] for i in data])\n",
    "avg_balance"
   ]
  },
  {
   "cell_type": "code",
   "execution_count": 132,
   "metadata": {},
   "outputs": [
    {
     "data": {
      "text/plain": [
       "1214.1"
      ]
     },
     "execution_count": 132,
     "metadata": {},
     "output_type": "execute_result"
    }
   ],
   "source": [
    "# User with the lowest balance\n",
    "# using the totals code to get the data in float form\n",
    "totals = [float(i[\"balance\"].replace(\",\",\"\").replace(\"$\",\"\")) for i in data]\n",
    "# finding lowest_balance with min function\n",
    "lowest_balance = min(totals)\n",
    "lowest_balance"
   ]
  },
  {
   "cell_type": "code",
   "execution_count": 133,
   "metadata": {},
   "outputs": [
    {
     "data": {
      "text/plain": [
       "3919.64"
      ]
     },
     "execution_count": 133,
     "metadata": {},
     "output_type": "execute_result"
    }
   ],
   "source": [
    "# User with the highest balance\n",
    "# using the totals code to get the data in float form\n",
    "totals = [float(i[\"balance\"].replace(\",\",\"\").replace(\"$\",\"\")) for i in data]\n",
    "highest_balance = max(totals)\n",
    "highest_balance\n"
   ]
  },
  {
   "cell_type": "code",
   "execution_count": 177,
   "metadata": {},
   "outputs": [
    {
     "name": "stdout",
     "output_type": "stream",
     "text": [
      "strawberry 9\n"
     ]
    }
   ],
   "source": [
    "# Most common favorite fruit\n",
    "fruit_list = ([i['favoriteFruit'] for i in data])\n",
    "a = 0       \n",
    "b = 0\n",
    "s = 0\n",
    "\n",
    "for x in data:\n",
    "    if x['favoriteFruit'] == 'apple':\n",
    "        a += 1\n",
    "    if x['favoriteFruit'] == 'banana':\n",
    "        b += 1\n",
    "    if x['favoriteFruit'] == 'strawberry':  \n",
    "        s += 1\n",
    "\n",
    "fruits = [{'fruit' : 'apple', 'count' : a}\n",
    "          ,{'fruit' : 'banana', 'count' : b}\n",
    "          ,{'fruit' : 'strawberry', 'count' : s}] \n",
    "\n",
    "max_fruit = max([x['fruit'] for x in fruits]) \n",
    "max_count = max([x['count'] for x in fruits])\n",
    "print(max_fruit, max_count)"
   ]
  },
  {
   "cell_type": "code",
   "execution_count": 178,
   "metadata": {},
   "outputs": [
    {
     "name": "stdout",
     "output_type": "stream",
     "text": [
      "apple 4\n"
     ]
    }
   ],
   "source": [
    "# Least most common favorite fruit\n",
    "fruit_list = ([i['favoriteFruit'] for i in data])\n",
    "a = 0       \n",
    "b = 0\n",
    "s = 0\n",
    "\n",
    "for x in data:\n",
    "    if x['favoriteFruit'] == 'apple':\n",
    "        a += 1\n",
    "    if x['favoriteFruit'] == 'banana':\n",
    "        b += 1\n",
    "    if x['favoriteFruit'] == 'strawberry':  \n",
    "        s += 1\n",
    "\n",
    "fruits = [{'fruit' : 'apple', 'count' : a}\n",
    "          ,{'fruit' : 'banana', 'count' : b}\n",
    "          ,{'fruit' : 'strawberry', 'count' : s}] \n",
    "\n",
    "min_fruit = min([x['fruit'] for x in fruits])\n",
    "min_count = min([x['count'] for x in fruits])\n",
    "print(min_fruit, min_count)\n",
    "\n"
   ]
  },
  {
   "cell_type": "code",
   "execution_count": 183,
   "metadata": {},
   "outputs": [
    {
     "data": {
      "text/plain": [
       "210"
      ]
     },
     "execution_count": 183,
     "metadata": {},
     "output_type": "execute_result"
    }
   ],
   "source": [
    "# Total number of unread messages for all users\n",
    "\n",
    "messages = [int(x['greeting'].lower().strip(\"abcdefghijklmonpqrstuvwxyz,!. \"\n",
    "            )) for x in data if 'unread' in x['greeting']] \n",
    "\n",
    "all_messages = sum(messages) \n",
    "\n",
    "all_messages"
   ]
  },
  {
   "cell_type": "code",
   "execution_count": null,
   "metadata": {},
   "outputs": [],
   "source": []
  }
 ],
 "metadata": {
  "kernelspec": {
   "display_name": "Python 3",
   "language": "python",
   "name": "python3"
  },
  "language_info": {
   "codemirror_mode": {
    "name": "ipython",
    "version": 3
   },
   "file_extension": ".py",
   "mimetype": "text/x-python",
   "name": "python",
   "nbconvert_exporter": "python",
   "pygments_lexer": "ipython3",
   "version": "3.7.6"
  }
 },
 "nbformat": 4,
 "nbformat_minor": 4
}
