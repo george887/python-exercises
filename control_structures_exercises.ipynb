{
 "cells": [
  {
   "cell_type": "code",
   "execution_count": 1,
   "metadata": {},
   "outputs": [
    {
     "name": "stdout",
     "output_type": "stream",
     "text": [
      "Today is Monday :(\n",
      "Please enter a string:\n",
      "dog\n",
      "You entered dog and its type is <class 'str'>\n"
     ]
    }
   ],
   "source": [
    "# 1.A. prompt the user for a day of the week, print out whether the day is Monday or not\n",
    "\n",
    "is_today_monday = True\n",
    "\n",
    "if is_today_monday:\n",
    "    print(\"Today is Monday :(\")\n",
    "else:\n",
    "    print(\"Toady is not Monday!\")\n",
    "    \n",
    "value = input(\"Please enter a string:\\n\")\n",
    " \n",
    "print(f'You entered {value} and its type is {type(value)}')"
   ]
  },
  {
   "cell_type": "code",
   "execution_count": 4,
   "metadata": {},
   "outputs": [
    {
     "name": "stdout",
     "output_type": "stream",
     "text": [
      "Please enter a day of the week Saturday\n",
      "You entered Monday and its a weekday\n",
      "You entered Tuesday and its a weekday\n",
      "You entered Wednesday and its a weekday\n",
      "You entered Thursday and its a weekday\n",
      "You entered Friday and its a weekday\n",
      "You entered Saturday and its a weekend\n",
      "You entered Sunday and its a weekend\n"
     ]
    }
   ],
   "source": [
    "# 1. B. prompt the user for a day of the week, print out whether the day is a weekday or a weekend\n",
    "day = input(\"Please enter a day of the week \")\n",
    " \n",
    "week_day = [\"Monday\",\"Tuesday\",\"Wednesday\",\"Thursday\", \"Friday\"]\n",
    "weekend = [\"Saturday\",\"Sunday\"]\n",
    "for day in week_day:\n",
    "    print(f'You entered {day} and its a weekday')\n",
    "for day in weekend:\n",
    "    print(f'You entered {day} and its a weekend')\n",
    "\n",
    "\n"
   ]
  },
  {
   "cell_type": "code",
   "execution_count": null,
   "metadata": {},
   "outputs": [],
   "source": [
    "for programming_language in languages:\n",
    "    if programming_language == 'python':\n",
    "        print(f'{programming_language} is my favorite!')\n",
    "    else:\n",
    "        print(f'{programming_language} is a nice programming language')\n"
   ]
  },
  {
   "cell_type": "code",
   "execution_count": 18,
   "metadata": {},
   "outputs": [
    {
     "name": "stdout",
     "output_type": "stream",
     "text": [
      "Monday is a weekday\n",
      "Tuesday is a weekday\n",
      "Wednesday is a weekday\n",
      "Thursday is a weekday\n",
      "Friday is a weekday\n",
      "Saturday is a weekend\n",
      "Sunday is a weekend\n"
     ]
    }
   ],
   "source": [
    "week_day = [\"Monday\",\"Tuesday\",\"Wednesday\",\"Thursday\", \"Friday\"]\n",
    "weekend = [\"Saturday\",\"Sunday\"]\n",
    "for day_of_the_week in week_day:\n",
    "    print(f'{day_of_the_week} is a weekday')\n",
    "for day_of_the_week in weekend:\n",
    "    print(f'{day_of_the_week} is a weekend')"
   ]
  },
  {
   "cell_type": "code",
   "execution_count": 5,
   "metadata": {},
   "outputs": [
    {
     "data": {
      "text/plain": [
       "'Tuesday'"
      ]
     },
     "execution_count": 5,
     "metadata": {},
     "output_type": "execute_result"
    }
   ],
   "source": [
    "weekday = \"Monday\"\n",
    "weekday = \"Tuesday\"\n",
    "weekday"
   ]
  },
  {
   "cell_type": "code",
   "execution_count": 9,
   "metadata": {},
   "outputs": [
    {
     "name": "stdout",
     "output_type": "stream",
     "text": [
      "896\n"
     ]
    }
   ],
   "source": [
    "#1 C. create variables and make up values for \n",
    "# the number of hours worked in one week\n",
    "# the hourly rate\n",
    "# how much the week's paycheck will be\n",
    "# write the python code that calculates the weekly paycheck. \n",
    "# You get paid time and a half if you work more than 40 hours\n",
    "\n",
    "hrs_worked_in_week = 32\n",
    "hourly_rate = 28\n",
    "paycheck = hrs_worked_in_week * hourly_rate\n",
    "overtime = hourly_rate * 1.5\n",
    "print(paycheck)\n",
    "if hrs_worked_in_week > 40:\n",
    "    \n"
   ]
  },
  {
   "cell_type": "code",
   "execution_count": null,
   "metadata": {},
   "outputs": [],
   "source": []
  }
 ],
 "metadata": {
  "kernelspec": {
   "display_name": "Python 3",
   "language": "python",
   "name": "python3"
  },
  "language_info": {
   "codemirror_mode": {
    "name": "ipython",
    "version": 3
   },
   "file_extension": ".py",
   "mimetype": "text/x-python",
   "name": "python",
   "nbconvert_exporter": "python",
   "pygments_lexer": "ipython3",
   "version": "3.7.6"
  }
 },
 "nbformat": 4,
 "nbformat_minor": 4
}
