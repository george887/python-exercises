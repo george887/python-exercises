{
 "cells": [
  {
   "cell_type": "code",
   "execution_count": 2,
   "metadata": {},
   "outputs": [
    {
     "name": "stdout",
     "output_type": "stream",
     "text": [
      "Please enter a day of the week Tuesday\n",
      "Today is Monday :(\n"
     ]
    }
   ],
   "source": [
    "# 1.A. prompt the user for a day of the week, print out whether the day is Monday or not\n",
    "\n",
    "is_today_monday = True\n",
    "\n",
    "if is_today_monday:\n",
    "    print(\"Today is Monday :(\")\n",
    "else:\n",
    "    print(\"Today is not Monday!\")"
   ]
  },
  {
   "cell_type": "code",
   "execution_count": null,
   "metadata": {},
   "outputs": [],
   "source": [
    "# 1. B. prompt the user for a day of the week, print out whether the day is a weekday or a weekend\n",
    "\n",
    "day = \"Monday\"\n",
    "if day == \"Monday\" or day == \"Tuesday\" or day == \"Wednesday\" or day == \"Thursday\" or day == \"Friday\":\n",
    "    print(f'{day} is on a weekday')\n",
    "else:\n",
    "    if day == \"Saturday\" or day == \"Sunday\":\n",
    "        print(f'{day} is on a weekend')"
   ]
  },
  {
   "cell_type": "code",
   "execution_count": 8,
   "metadata": {},
   "outputs": [
    {
     "name": "stdout",
     "output_type": "stream",
     "text": [
      "Please enter a day of the week Saturday\n",
      "Saturday is on a weekend\n"
     ]
    }
   ],
   "source": [
    "day = input(\"Please enter a day of the week \")\n",
    "\n",
    "if day == \"Monday\" or day == \"Tuesday\" or day == \"Wednesday\" or day == \"Thursday\" or day == \"Friday\":\n",
    "    print(f'You entered {day} and its a weekday')\n",
    "else:\n",
    "    if day == \"Saturday\" or day == \"Sunday\":\n",
    "        print(f'{day} is on a weekend')\n"
   ]
  },
  {
   "cell_type": "code",
   "execution_count": 17,
   "metadata": {},
   "outputs": [
    {
     "name": "stdout",
     "output_type": "stream",
     "text": [
      "1330.0\n"
     ]
    }
   ],
   "source": [
    "#1 C. create variables and make up values for \n",
    "# the number of hours worked in one week\n",
    "# the hourly rate\n",
    "# how much the week's paycheck will be\n",
    "# write the python code that calculates the weekly paycheck. \n",
    "# You get paid time and a half if you work more than 40 hours\n",
    "\n",
    "hrs_worked_in_week = 45\n",
    "hourly_rate = 28\n",
    "extra_hrs_worked = 5\n",
    "over_time_rate = 28 * 1.5\n",
    "paycheck = hrs_worked_in_week * hourly_rate\n",
    "o_paycheck = (40 * 28) + extra_hrs_worked * over_time_rate\n",
    "\n",
    "if hrs_worked_in_week <= 40:\n",
    "    print(paycheck)\n",
    "elif hrs_worked_in_week > 40:\n",
    "    print(o_paycheck)\n",
    "    \n"
   ]
  },
  {
   "cell_type": "code",
   "execution_count": 30,
   "metadata": {},
   "outputs": [
    {
     "name": "stdout",
     "output_type": "stream",
     "text": [
      "5\n",
      "6\n",
      "7\n",
      "8\n",
      "9\n",
      "10\n",
      "11\n",
      "12\n",
      "13\n",
      "14\n",
      "15\n"
     ]
    }
   ],
   "source": [
    "# 2.A 'While' Create an integer variable i with a value of 5. Create a while loop that runs so long as i\n",
    "# is less than or equal to 15 Each loop iteration, output the current value of i, then increment i by one.\n",
    "i = 5\n",
    "while i <= 15:\n",
    "    print(i)\n",
    "    i = i +1"
   ]
  },
  {
   "cell_type": "code",
   "execution_count": 29,
   "metadata": {},
   "outputs": [
    {
     "name": "stdout",
     "output_type": "stream",
     "text": [
      "1\n",
      "2\n",
      "3\n",
      "4\n",
      "5\n",
      "6\n",
      "7\n",
      "8\n",
      "9\n",
      "10\n",
      "11\n",
      "12\n",
      "13\n",
      "14\n",
      "15\n"
     ]
    }
   ],
   "source": [
    "## Answered with for\n",
    "for i in range(1,16):\n",
    "    print(i)"
   ]
  },
  {
   "cell_type": "code",
   "execution_count": 37,
   "metadata": {},
   "outputs": [
    {
     "name": "stdout",
     "output_type": "stream",
     "text": [
      "0\n",
      "2\n",
      "4\n",
      "6\n",
      "8\n",
      "10\n",
      "12\n",
      "14\n",
      "16\n",
      "18\n",
      "20\n",
      "22\n",
      "24\n",
      "26\n",
      "28\n",
      "30\n",
      "32\n",
      "34\n",
      "36\n",
      "38\n",
      "40\n",
      "42\n",
      "44\n",
      "46\n",
      "48\n",
      "50\n",
      "52\n",
      "54\n",
      "56\n",
      "58\n",
      "60\n",
      "62\n",
      "64\n",
      "66\n",
      "68\n",
      "70\n",
      "72\n",
      "74\n",
      "76\n",
      "78\n",
      "80\n",
      "82\n",
      "84\n",
      "86\n",
      "88\n",
      "90\n",
      "92\n",
      "94\n",
      "96\n",
      "98\n",
      "100\n"
     ]
    }
   ],
   "source": [
    "# Create a while loop that will count by 2's starting with 0 and ending at 100. Follow each number with a \n",
    "# new line.\n",
    "i = 0\n",
    "while i <= 100:\n",
    "    print(i)\n",
    "    i = i + 2"
   ]
  },
  {
   "cell_type": "code",
   "execution_count": 33,
   "metadata": {},
   "outputs": [
    {
     "name": "stdout",
     "output_type": "stream",
     "text": [
      "0\n",
      "2\n",
      "4\n",
      "6\n",
      "8\n",
      "10\n",
      "12\n",
      "14\n",
      "16\n",
      "18\n",
      "20\n",
      "22\n",
      "24\n",
      "26\n",
      "28\n",
      "30\n",
      "32\n",
      "34\n",
      "36\n",
      "38\n",
      "40\n",
      "42\n",
      "44\n",
      "46\n",
      "48\n",
      "50\n",
      "52\n",
      "54\n",
      "56\n",
      "58\n",
      "60\n",
      "62\n",
      "64\n",
      "66\n",
      "68\n",
      "70\n",
      "72\n",
      "74\n",
      "76\n",
      "78\n",
      "80\n",
      "82\n",
      "84\n",
      "86\n",
      "88\n",
      "90\n",
      "92\n",
      "94\n",
      "96\n",
      "98\n",
      "100\n"
     ]
    }
   ],
   "source": [
    "## Answered with for\n",
    "for i in range(0, 101, 2):\n",
    "    print(i)"
   ]
  },
  {
   "cell_type": "code",
   "execution_count": 34,
   "metadata": {},
   "outputs": [
    {
     "name": "stdout",
     "output_type": "stream",
     "text": [
      "100\n",
      "95\n",
      "90\n",
      "85\n",
      "80\n",
      "75\n",
      "70\n",
      "65\n",
      "60\n",
      "55\n",
      "50\n",
      "45\n",
      "40\n",
      "35\n",
      "30\n",
      "25\n",
      "20\n",
      "15\n",
      "10\n",
      "5\n",
      "0\n",
      "-5\n",
      "-10\n"
     ]
    }
   ],
   "source": [
    "# Alter your loop to count backwards by 5's from 100 to -10.\n",
    "i = 100\n",
    "while i >= -10:\n",
    "    print(i)\n",
    "    i = i - 5"
   ]
  },
  {
   "cell_type": "code",
   "execution_count": 35,
   "metadata": {},
   "outputs": [
    {
     "name": "stdout",
     "output_type": "stream",
     "text": [
      "100\n",
      "95\n",
      "90\n",
      "85\n",
      "80\n",
      "75\n",
      "70\n",
      "65\n",
      "60\n",
      "55\n",
      "50\n",
      "45\n",
      "40\n",
      "35\n",
      "30\n",
      "25\n",
      "20\n",
      "15\n",
      "10\n",
      "5\n",
      "0\n",
      "-5\n",
      "-10\n"
     ]
    }
   ],
   "source": [
    "## Answered with for\n",
    "for i in reversed(range(-10, 105, 5)):\n",
    "    print(i)"
   ]
  },
  {
   "cell_type": "code",
   "execution_count": 34,
   "metadata": {},
   "outputs": [
    {
     "name": "stdout",
     "output_type": "stream",
     "text": [
      "2\n",
      "4\n",
      "16\n",
      "256\n",
      "65536\n"
     ]
    }
   ],
   "source": [
    "# Create a while loop that starts at 2, and displays the number squared on each line while the number is \n",
    "# less than 1,000,000. Output should equal:\n",
    "i = 2\n",
    "while i < 1000000:\n",
    "    print(i)\n",
    "    i = i ** 2\n",
    "    "
   ]
  },
  {
   "cell_type": "code",
   "execution_count": 35,
   "metadata": {},
   "outputs": [
    {
     "name": "stdout",
     "output_type": "stream",
     "text": [
      "100\n",
      "95\n",
      "90\n",
      "85\n",
      "80\n",
      "75\n",
      "70\n",
      "65\n",
      "60\n",
      "55\n",
      "50\n",
      "45\n",
      "40\n",
      "35\n",
      "30\n",
      "25\n",
      "20\n",
      "15\n",
      "10\n",
      "5\n"
     ]
    }
   ],
   "source": [
    "# Write a loop that uses print to create the output shown below.\n",
    "i = 100\n",
    "while i > 0:\n",
    "    print(i)\n",
    "    i = i - 5"
   ]
  },
  {
   "cell_type": "code",
   "execution_count": 70,
   "metadata": {},
   "outputs": [
    {
     "name": "stdout",
     "output_type": "stream",
     "text": [
      "Please enter a number:3\n",
      "3 X 1 = 3\n",
      "3 X 2 = 6\n",
      "3 X 3 = 9\n",
      "3 X 4 = 12\n",
      "3 X 5 = 15\n",
      "3 X 6 = 18\n",
      "3 X 7 = 21\n",
      "3 X 8 = 24\n",
      "3 X 9 = 27\n",
      "3 X 10 = 30\n"
     ]
    }
   ],
   "source": [
    "#2.B. For Loops. Write some code that prompts the user for a number, then shows a multiplication table up \n",
    "# through 10 for that number. \n",
    "number = int(input(\"Please enter a number:\"))\n",
    "for i in range(1,11):\n",
    "    print(number, \"X\", i, \"=\", number * i)\n",
    "\n"
   ]
  },
  {
   "cell_type": "code",
   "execution_count": 78,
   "metadata": {},
   "outputs": [
    {
     "name": "stdout",
     "output_type": "stream",
     "text": [
      "1\n",
      "22\n",
      "333\n",
      "4444\n",
      "55555\n",
      "666666\n",
      "7777777\n",
      "88888888\n",
      "999999999\n",
      "cat\n",
      "catcat\n",
      "catcatcat\n",
      "catcatcatcat\n",
      "catcatcatcatcat\n",
      "catcatcatcatcatcat\n",
      "catcatcatcatcatcatcat\n",
      "catcatcatcatcatcatcatcat\n",
      "catcatcatcatcatcatcatcatcat\n"
     ]
    }
   ],
   "source": [
    "# Create a for loop that uses print to create the output shown below.\n",
    "for i in range(1,10):\n",
    "    print(str(i) * i)\n",
    "for i in range(1,10):\n",
    "    print(str('cat') * i)"
   ]
  },
  {
   "cell_type": "code",
   "execution_count": 29,
   "metadata": {},
   "outputs": [
    {
     "name": "stdout",
     "output_type": "stream",
     "text": [
      "Please enter an odd number between 1 & 50:2\n",
      "You pick an invalid number 2. Please pick an odd number between 1 & 50.\n",
      "Please enter an odd number between 1 & 50:1\n",
      "\n",
      " 1 is the number to skip\n",
      "\n",
      "Yikes! Skipping 1: 1\n",
      "Here is an odd number 3\n",
      "Here is an odd number 5\n",
      "Here is an odd number 7\n",
      "Here is an odd number 9\n",
      "Here is an odd number 11\n",
      "Here is an odd number 13\n",
      "Here is an odd number 15\n",
      "Here is an odd number 17\n",
      "Here is an odd number 19\n",
      "Here is an odd number 21\n",
      "Here is an odd number 23\n",
      "Here is an odd number 25\n",
      "Here is an odd number 27\n",
      "Here is an odd number 29\n",
      "Here is an odd number 31\n",
      "Here is an odd number 33\n",
      "Here is an odd number 35\n",
      "Here is an odd number 37\n",
      "Here is an odd number 39\n",
      "Here is an odd number 41\n",
      "Here is an odd number 43\n",
      "Here is an odd number 45\n",
      "Here is an odd number 47\n",
      "Here is an odd number 49\n"
     ]
    }
   ],
   "source": [
    "# break and continue Prompt the user for an odd number between 1 and 50. Use a loop and a break statement\n",
    "# to continue prompting the user if they enter invalid input. (Hint: use the isdigit method on strings \n",
    "# to determine this). Use a loop and the continue statement to output all the odd numbers between 1 and 50, \n",
    "# except for the number the user entered.\n",
    "\n",
    "number = (input(\"Please enter an odd number between 1 & 50:\"))\n",
    "for i in range(1,51,2):\n",
    "    while number.isdigit() == False or int(number) % 2 == 0 or int(number) < 1 or int(number) > 50:\n",
    "        print(f\"You pick an invalid number {number}. Please pick an odd number between 1 & 50.\")\n",
    "        number = (input(\"Please enter an odd number between 1 & 50:\"))\n",
    "        if number.isdigit() == True or int(number) % 2 == 1 and int(number) >= 1 and int(number) < 50:\n",
    "            print(\"\\n\", number, \"is the number to skip\\n\")\n",
    "            break\n",
    "    if i == int(number):\n",
    "        print(f\"Yikes! Skipping {i}:\",i)\n",
    "        continue\n",
    "    print(\"Here is an odd number\", i)\n",
    "\n"
   ]
  },
  {
   "cell_type": "markdown",
   "metadata": {},
   "source": [
    "# "
   ]
  },
  {
   "cell_type": "markdown",
   "metadata": {},
   "source": []
  },
  {
   "cell_type": "code",
   "execution_count": 30,
   "metadata": {},
   "outputs": [
    {
     "name": "stdout",
     "output_type": "stream",
     "text": [
      "Please enter an even number between 0 & 70:1\n",
      "You pick an invalid number 1. Please pick an even number between 1 & 70.\n",
      "Please enter an even number between 1 & 70:2\n",
      "\n",
      " 2 is the number to skip\n",
      "\n",
      "Here is an even number 0\n",
      "Yikes! Skipping 2: 2\n",
      "Here is an even number 4\n",
      "Here is an even number 6\n",
      "Here is an even number 8\n",
      "Here is an even number 10\n",
      "Here is an even number 12\n",
      "Here is an even number 14\n",
      "Here is an even number 16\n",
      "Here is an even number 18\n",
      "Here is an even number 20\n",
      "Here is an even number 22\n",
      "Here is an even number 24\n",
      "Here is an even number 26\n",
      "Here is an even number 28\n",
      "Here is an even number 30\n",
      "Here is an even number 32\n",
      "Here is an even number 34\n",
      "Here is an even number 36\n",
      "Here is an even number 38\n",
      "Here is an even number 40\n",
      "Here is an even number 42\n",
      "Here is an even number 44\n",
      "Here is an even number 46\n",
      "Here is an even number 48\n",
      "Here is an even number 50\n",
      "Here is an even number 52\n",
      "Here is an even number 54\n",
      "Here is an even number 56\n",
      "Here is an even number 58\n",
      "Here is an even number 60\n",
      "Here is an even number 62\n",
      "Here is an even number 64\n",
      "Here is an even number 66\n",
      "Here is an even number 68\n",
      "Here is an even number 70\n"
     ]
    }
   ],
   "source": [
    "# The input function can be used to prompt for input and use that input in your python code. Prompt the user \n",
    "# to enter a positive number and write a loop that counts from 0 to that number. (Hints: first make sure that \n",
    "# the value the user entered is a valid number, also note that the input function returns a string, so you'll\n",
    "# need to convert this to a numeric type.)\n",
    "number = (input(\"Please enter an even number between 0 & 70:\"))\n",
    "for i in range(0,71,2):\n",
    "    while number.isdigit() == False or int(number) % 2 == 1 or int(number) < 0 or int(number) > 70:\n",
    "        print(f\"You pick an invalid number {number}. Please pick an even number between 1 & 70.\")\n",
    "        number = (input(\"Please enter an even number between 1 & 70:\"))\n",
    "        if number.isdigit() == True or int(number) % 2 == 0 and int(number) >= 0 and int(number) < 71:\n",
    "            print(\"\\n\", number, \"is the number to skip\\n\")\n",
    "            break\n",
    "    if i == int(number):\n",
    "        print(f\"Yikes! Skipping {i}:\",i)\n",
    "        continue\n",
    "    print(\"Here is an even number\", i)\n",
    "\n"
   ]
  },
  {
   "cell_type": "code",
   "execution_count": 38,
   "metadata": {},
   "outputs": [
    {
     "name": "stdout",
     "output_type": "stream",
     "text": [
      "Please enter an even number between 0 & 20:\t1\n",
      "You pick an invalid number 1. Please pick an even number between 1 & 20.\n",
      "Please enter an even number between 1 & 20:2\n",
      "2 is the number to skip\n",
      "Here is an even number 20\n",
      "Here is an even number 18\n",
      "Here is an even number 16\n",
      "Here is an even number 14\n",
      "Here is an even number 12\n",
      "Here is an even number 10\n",
      "Here is an even number 8\n",
      "Here is an even number 6\n",
      "Here is an even number 4\n",
      "Yikes! Skipping 2: 2\n",
      "Here is an even number 0\n"
     ]
    }
   ],
   "source": [
    "# Write a program that prompts the user for a positive integer. Next write a loop that prints out the numbers\n",
    "# from the number the user entered down to 1.\n",
    "number = (input(\"Please enter an even number between 0 & 20:\\t\"))\n",
    "for i in reversed(range(0,21,2)):\n",
    "    while number.isdigit() == False or int(number) % 2 == 1 or int(number) < 0 or int(number) > 20:\n",
    "        print(f\"You pick an invalid number {number}. Please pick an even number between 1 & 20.\")\n",
    "        number = (input(\"Please enter an even number between 1 & 20:\"))\n",
    "        if number.isdigit() == True or int(number) % 2 == 0 and int(number) >= 0 and int(number) < 21:\n",
    "            print(number, \"is the number to skip\")\n",
    "            break\n",
    "    if i == int(number):\n",
    "        print(f\"Yikes! Skipping {i}:\",i)\n",
    "        continue\n",
    "    print(\"Here is an even number\", i)\n",
    "\n"
   ]
  },
  {
   "cell_type": "code",
   "execution_count": 45,
   "metadata": {},
   "outputs": [
    {
     "name": "stdout",
     "output_type": "stream",
     "text": [
      "Here is a number 1\n",
      "Here is a number 2\n",
      "Fizz\n",
      "Here is a number 4\n",
      "Buzz\n",
      "Fizz\n",
      "Here is a number 7\n",
      "Here is a number 8\n",
      "Fizz\n",
      "Buzz\n",
      "Here is a number 11\n",
      "Fizz\n",
      "Here is a number 13\n",
      "Here is a number 14\n",
      "Fizzbuzz\n",
      "Here is a number 16\n",
      "Here is a number 17\n",
      "Fizz\n",
      "Here is a number 19\n",
      "Buzz\n",
      "Fizz\n",
      "Here is a number 22\n",
      "Here is a number 23\n",
      "Fizz\n",
      "Buzz\n",
      "Here is a number 26\n",
      "Fizz\n",
      "Here is a number 28\n",
      "Here is a number 29\n",
      "Fizzbuzz\n",
      "Here is a number 31\n",
      "Here is a number 32\n",
      "Fizz\n",
      "Here is a number 34\n",
      "Buzz\n",
      "Fizz\n",
      "Here is a number 37\n",
      "Here is a number 38\n",
      "Fizz\n",
      "Buzz\n",
      "Here is a number 41\n",
      "Fizz\n",
      "Here is a number 43\n",
      "Here is a number 44\n",
      "Fizzbuzz\n",
      "Here is a number 46\n",
      "Here is a number 47\n",
      "Fizz\n",
      "Here is a number 49\n",
      "Buzz\n",
      "Fizz\n",
      "Here is a number 52\n",
      "Here is a number 53\n",
      "Fizz\n",
      "Buzz\n",
      "Here is a number 56\n",
      "Fizz\n",
      "Here is a number 58\n",
      "Here is a number 59\n",
      "Fizzbuzz\n",
      "Here is a number 61\n",
      "Here is a number 62\n",
      "Fizz\n",
      "Here is a number 64\n",
      "Buzz\n",
      "Fizz\n",
      "Here is a number 67\n",
      "Here is a number 68\n",
      "Fizz\n",
      "Buzz\n",
      "Here is a number 71\n",
      "Fizz\n",
      "Here is a number 73\n",
      "Here is a number 74\n",
      "Fizzbuzz\n",
      "Here is a number 76\n",
      "Here is a number 77\n",
      "Fizz\n",
      "Here is a number 79\n",
      "Buzz\n",
      "Fizz\n",
      "Here is a number 82\n",
      "Here is a number 83\n",
      "Fizz\n",
      "Buzz\n",
      "Here is a number 86\n",
      "Fizz\n",
      "Here is a number 88\n",
      "Here is a number 89\n",
      "Fizzbuzz\n",
      "Here is a number 91\n",
      "Here is a number 92\n",
      "Fizz\n",
      "Here is a number 94\n",
      "Buzz\n",
      "Fizz\n",
      "Here is a number 97\n",
      "Here is a number 98\n",
      "Fizz\n",
      "Buzz\n"
     ]
    }
   ],
   "source": [
    "3. # Write a program that prints the numbers from 1 to 100.\n",
    "# For multiples of three print \"Fizz\" instead of the number\n",
    "# For the multiples of five print \"Buzz\".\n",
    "# For numbers which are multiples of both three and five print \"FizzBuzz\".\n",
    "3\n",
    "\n",
    "for Fizzbuzz in range(1,101,1):\n",
    "    if Fizzbuzz % 3 == 0 and Fizzbuzz % 5 == 0:\n",
    "        print(\"Fizzbuzz\")\n",
    "        continue\n",
    "    elif Fizzbuzz % 3 == 0:\n",
    "        print(\"Fizz\")\n",
    "        continue\n",
    "    elif Fizzbuzz % 5 == 0:\n",
    "        print(\"Buzz\")\n",
    "        continue\n",
    "    print(\"Here is a number\", Fizzbuzz)\n",
    "    \n",
    "    "
   ]
  },
  {
   "cell_type": "code",
   "execution_count": 75,
   "metadata": {},
   "outputs": [
    {
     "name": "stdout",
     "output_type": "stream",
     "text": [
      "What number would you like to go up to?:\t5\n",
      "1 1 1\n",
      "2 4 8\n",
      "3 9 27\n",
      "4 16 64\n",
      "5 25 125\n",
      "Would you like to do another table? Yes or No?:\tNo\n"
     ]
    }
   ],
   "source": [
    "# Display a table of powers.\n",
    "# Prompt the user to enter an integer.\n",
    "# Display a table of squares and cubes from 1 to the value entered.\n",
    "# Ask if the user wants to continue.\n",
    "# Assume that the user will enter valid data.\n",
    "# Only continue if the user agrees to.\n",
    "running = True\n",
    "\n",
    "while running:\n",
    "    number = int(input(\"What number would you like to go up to?:\\t\"))\n",
    "   \n",
    "    for x in range(1, number + 1):\n",
    "        print(x, x ** 2, x **3)\n",
    "\n",
    "    question = input(\"Would you like to do another table? Yes or No?:\\t\")\n",
    "    if question == \"No\":\n",
    "        break\n",
    "    else:\n",
    "        continue\n",
    "    \n",
    "                \n",
    "            \n",
    "        \n"
   ]
  },
  {
   "cell_type": "code",
   "execution_count": 95,
   "metadata": {},
   "outputs": [
    {
     "name": "stdout",
     "output_type": "stream",
     "text": [
      "Please enter your numerical grade 66\n",
      "You received an D with a 66\n",
      "Would you like to input another grade? Yes or No?:\tYes\n",
      "Please enter your numerical grade 55\n",
      "You received an D with a 55\n",
      "Would you like to input another grade? Yes or No?:\tNo\n"
     ]
    }
   ],
   "source": [
    "# 5 Convert given number grades into letter grades. \n",
    "# Prompt the user for a numerical grade from 0 to 100.\n",
    "# Display the corresponding letter grade.\n",
    "# Prompt the user to continue.\n",
    "# Assume that the user will enter valid integers for the grades.\n",
    "# The application should only continue if the user agrees to.\n",
    "# Grade Ranges:\n",
    "\n",
    "# A : 100 - 88\n",
    "# B : 87 - 80\n",
    "# C : 79 - 67\n",
    "# D : 66 - 60\n",
    "# F : 59 - 0\n",
    "\n",
    "running = True\n",
    "\n",
    "while running:\n",
    "    grade = int(input(\"Please enter your numerical grade \"))\n",
    "    if grade <= 100 and grade >= 88:\n",
    "        print(f\"You received an A with a {grade}\")\n",
    "    elif grade <= 87 and grade >= 80:\n",
    "        print(f\"You received an B with a {grade}\")\n",
    "    elif grade <= 79 and grade >= 67:\n",
    "        print(f\"You received an C with a {grade}\")\n",
    "    elif grade <= 66 and grade >= 60:\n",
    "        print(f\"You received an D with a {grade}\")\n",
    "    elif grade <= 59:\n",
    "        print(f\"You received an D with a {grade}\")\n",
    "    question = input(\"Would you like to input another grade? Yes or No?:\\t\")\n",
    "    if question == \"No\":\n",
    "        break\n",
    "    else:\n",
    "        continue\n",
    "        \n",
    "                "
   ]
  },
  {
   "cell_type": "code",
   "execution_count": 122,
   "metadata": {},
   "outputs": [
    {
     "name": "stdout",
     "output_type": "stream",
     "text": [
      "{'Title': 'Childrens Everyday Bible', 'Author': 'Deborah Chancellor', 'Genre': 'Biblical'}\n",
      "{'Title': 'Mr. Brown can Moo! Can You?', 'Author': 'Dr. Seuss', 'Genre': 'Childrens Fiction'}\n",
      "{'Title': 'Start With Why', 'Author': 'Simon Sinek', 'Genre': 'Self Help Book'}\n",
      "Enter a genre Childrens Fiction\n",
      "Mr. Brown can Moo! Can You? Falls under the genre of Childrens Fiction\n"
     ]
    }
   ],
   "source": [
    "# Create a list of dictionaries where each dictionary represents a book that you have \n",
    "# read. Each dictionary in the list should have the keys title, author, and genre. \n",
    "# Loop through the list and print out information about each book.\n",
    "\n",
    "# Prompt the user to enter a genre, then loop through your books list and print out the\n",
    "# titles of all the books in that genre.\n",
    "Books = [\n",
    "    {\"Title\": \"Childrens Everyday Bible\",\n",
    "          \"Author\": \"Deborah Chancellor\",\n",
    "          \"Genre\": \"Biblical\"\n",
    "         }, \n",
    "        {\n",
    "            \"Title\": \"Mr. Brown can Moo! Can You?\",\n",
    "          \"Author\": \"Dr. Seuss\",\n",
    "          \"Genre\": \"Childrens Fiction\"\n",
    "        },\n",
    "        {\n",
    "            \"Title\": \"Start With Why\",\n",
    "          \"Author\": \"Simon Sinek\",\n",
    "          \"Genre\": \"Self Help Book\"\n",
    "        }]\n",
    "for Title in Books:\n",
    "    print(Title)\n",
    "\n",
    "prompt = input(\"Enter a genre \")\n",
    "while prompt not in [x['Genre'] for x in Books]:\n",
    "    prompt = input('Please enter a new genre as the specified one is not in this dictionary: ')\n",
    "    if prompt in [x['Genre'] for x in Books]:\n",
    "        break\n",
    "for x in Books:\n",
    "    if prompt == x['Genre']:\n",
    "        print(\"{} Falls under the genre of {}\".format(x['Title'], prompt))"
   ]
  },
  {
   "cell_type": "code",
   "execution_count": null,
   "metadata": {},
   "outputs": [],
   "source": []
  },
  {
   "cell_type": "code",
   "execution_count": null,
   "metadata": {},
   "outputs": [],
   "source": []
  }
 ],
 "metadata": {
  "kernelspec": {
   "display_name": "Python 3",
   "language": "python",
   "name": "python3"
  },
  "language_info": {
   "codemirror_mode": {
    "name": "ipython",
    "version": 3
   },
   "file_extension": ".py",
   "mimetype": "text/x-python",
   "name": "python",
   "nbconvert_exporter": "python",
   "pygments_lexer": "ipython3",
   "version": "3.7.6"
  }
 },
 "nbformat": 4,
 "nbformat_minor": 4
}
