{
 "cells": [
  {
   "cell_type": "code",
   "execution_count": 1,
   "metadata": {},
   "outputs": [
    {
     "data": {
      "text/plain": [
       "True"
      ]
     },
     "execution_count": 1,
     "metadata": {},
     "output_type": "execute_result"
    }
   ],
   "source": [
    "#1. Define a function named is_two. It should accept one input and return True if the assed input is either \n",
    "# the number or the string 2, False otherwise.\n",
    "\n",
    "# defining the function is_two with a single variable x as a string\n",
    "def is_two(x):\n",
    "    # allowing the variable to be both an interger and string when equal to two\n",
    "    if int(x) == 2 or str(x) == 2:\n",
    "        # returning a true bool if true\n",
    "        return True\n",
    "    # otherwise return the false bool\n",
    "    else:\n",
    "        return False\n",
    "\n",
    "assert type(is_two(2)) == bool\n",
    "is_two(2)"
   ]
  },
  {
   "cell_type": "code",
   "execution_count": 2,
   "metadata": {},
   "outputs": [
    {
     "data": {
      "text/plain": [
       "False"
      ]
     },
     "execution_count": 2,
     "metadata": {},
     "output_type": "execute_result"
    }
   ],
   "source": [
    "#2. Define a function named is_vowel. It should return True if the passed string is a vowel, False otherwise.\n",
    "\n",
    "# defining is_vowel with a single variable x as a string\n",
    "def is_vowel(x):\n",
    "    # if the variable x is either a lower or upper case vowel\n",
    "    if x in [\"a\", \"e\", \"i\", \"o\", \"u\"] or x in [\"A\", \"E\", \"I\", \"O\", \"U\"]:\n",
    "        # return a true bool\n",
    "        return True\n",
    "    # otherwise false\n",
    "    else:\n",
    "        return False\n",
    "    \n",
    "assert type(is_vowel(\"D\")) == bool\n",
    "is_vowel(\"D\")  "
   ]
  },
  {
   "cell_type": "code",
   "execution_count": 3,
   "metadata": {},
   "outputs": [
    {
     "data": {
      "text/plain": [
       "True"
      ]
     },
     "execution_count": 3,
     "metadata": {},
     "output_type": "execute_result"
    }
   ],
   "source": [
    "is_vowel(\"A\")"
   ]
  },
  {
   "cell_type": "code",
   "execution_count": 4,
   "metadata": {},
   "outputs": [
    {
     "data": {
      "text/plain": [
       "False"
      ]
     },
     "execution_count": 4,
     "metadata": {},
     "output_type": "execute_result"
    }
   ],
   "source": [
    "#3. Define a function named is_consonant. It should return True if the passed string is a consonant, \n",
    "# False otherwise. Use your is_vowel function to accomplish this.\n",
    "\n",
    "# defining is_consonant function with a single string as a varible\n",
    "def is_consonant(x):\n",
    "    # refering to is_vowel function to see if the sting is a vowel\n",
    "    if is_vowel(x):\n",
    "        # returning the bool False if vowel\n",
    "        return False\n",
    "    # otherwise returning true for being a consonant\n",
    "    else:\n",
    "        return True\n",
    "\n",
    "is_consonant(\"O\")"
   ]
  },
  {
   "cell_type": "code",
   "execution_count": 5,
   "metadata": {},
   "outputs": [
    {
     "data": {
      "text/plain": [
       "True"
      ]
     },
     "execution_count": 5,
     "metadata": {},
     "output_type": "execute_result"
    }
   ],
   "source": [
    "is_consonant(\"C\")"
   ]
  },
  {
   "cell_type": "code",
   "execution_count": 6,
   "metadata": {},
   "outputs": [],
   "source": [
    "#4. Define a function that accepts a string that is a word. The function should capitalize the first letter\n",
    "# of the word if the word starts with a consonant.\n",
    "\n",
    "# defining a the cap_first_letter_word function with a string value\n",
    "def cap_first_letter_word(word):\n",
    "    # refering to the is_consonant function to see if the string first letter is a consonant\n",
    "    if is_consonant(word[0]):\n",
    "        # returning the first letter uppercased with the remainder of the word unchanged\n",
    "        return (word[0].upper() + word[1:])\n",
    "    # otherwise returning the word unchanged\n",
    "    else:\n",
    "        return word\n",
    "    "
   ]
  },
  {
   "cell_type": "code",
   "execution_count": 7,
   "metadata": {},
   "outputs": [
    {
     "data": {
      "text/plain": [
       "'Dog'"
      ]
     },
     "execution_count": 7,
     "metadata": {},
     "output_type": "execute_result"
    }
   ],
   "source": [
    "cap_first_letter_word(\"ant\")\n",
    "cap_first_letter_word(\"dog\")"
   ]
  },
  {
   "cell_type": "code",
   "execution_count": 8,
   "metadata": {},
   "outputs": [],
   "source": [
    "#5. Define a function named calculate_tip. It should accept a tip percentage (a number between 0 and 1) and\n",
    "# the bill total, and return the amount to tip.\n",
    "\n",
    "#defining the function calculate tip with two variables which will return a float since we are dealing with decimals. It could return an int if we give no tip or give an 100% tip\n",
    "def calculate_tip(tip_percentage, bill_total):\n",
    "    # assigning a new variable to accept the two variables above\n",
    "    tip_amount = bill_total * tip_percentage\n",
    "    #returning the tip_ampout\n",
    "    return tip_amount\n",
    "    \n",
    "    "
   ]
  },
  {
   "cell_type": "code",
   "execution_count": 9,
   "metadata": {},
   "outputs": [
    {
     "data": {
      "text/plain": [
       "7.5"
      ]
     },
     "execution_count": 9,
     "metadata": {},
     "output_type": "execute_result"
    }
   ],
   "source": [
    "calculate_tip(.15,50)"
   ]
  },
  {
   "cell_type": "code",
   "execution_count": 10,
   "metadata": {},
   "outputs": [],
   "source": [
    "#6. Define a function named apply_discount. It should accept a original price, and a discount percentage, \n",
    "# and return the price after the discount is applied.\n",
    "\n",
    "# defining the apply_discount function with two variables\n",
    "def apply_discount(original_price, discount_percentage):\n",
    "    # assigning a new variable that takes in the two variables listed above. \n",
    "    price_after_discount = original_price - (original_price * discount_percentage)\n",
    "    # returning the price_after_discount as an float or int since dealing with numbers\n",
    "    return price_after_discount"
   ]
  },
  {
   "cell_type": "code",
   "execution_count": 11,
   "metadata": {},
   "outputs": [
    {
     "data": {
      "text/plain": [
       "38.5"
      ]
     },
     "execution_count": 11,
     "metadata": {},
     "output_type": "execute_result"
    }
   ],
   "source": [
    "apply_discount(55, .3)"
   ]
  },
  {
   "cell_type": "code",
   "execution_count": 12,
   "metadata": {},
   "outputs": [],
   "source": [
    "#7. Define a function named handle_commas. It should accept a string that is a number that contains commas\n",
    "# in it as input, and return a number as output.\n",
    "\n",
    "# defining the function with a string\n",
    "def handle_commas(number):\n",
    "    #creating a variable remove_commas to take the number we give and replace \",\" with a space\n",
    "    remove_commas = number.replace(\",\",\"\")\n",
    "    return remove_commas\n"
   ]
  },
  {
   "cell_type": "code",
   "execution_count": 13,
   "metadata": {},
   "outputs": [
    {
     "data": {
      "text/plain": [
       "'4444'"
      ]
     },
     "execution_count": 13,
     "metadata": {},
     "output_type": "execute_result"
    }
   ],
   "source": [
    "handle_commas(\"4,4,44,\")"
   ]
  },
  {
   "cell_type": "code",
   "execution_count": 14,
   "metadata": {},
   "outputs": [],
   "source": [
    "#8. Define a function named get_letter_grade. It should accept a number and return the letter grade associated\n",
    "# with that number (A-F).\n",
    "\n",
    "# defining a function with a string\n",
    "def get_letter_grade(grade):\n",
    "        # setting parameters for grade to fall in and produce the corresponding letter grade\n",
    "        if grade >= \"90\" and grade < \"100\":\n",
    "            return \"A\"\n",
    "        elif grade <= \"89\" and grade >= \"80\":\n",
    "            return \"B\"\n",
    "        elif grade <= \"79\" and grade >= \"70\":\n",
    "            return \"C\"\n",
    "        elif grade <= \"69\" and grade >= \"60\":\n",
    "            return \"D\"\n",
    "        else:\n",
    "            return \"F\""
   ]
  },
  {
   "cell_type": "code",
   "execution_count": 15,
   "metadata": {},
   "outputs": [
    {
     "data": {
      "text/plain": [
       "'D'"
      ]
     },
     "execution_count": 15,
     "metadata": {},
     "output_type": "execute_result"
    }
   ],
   "source": [
    "get_letter_grade(\"60\")"
   ]
  },
  {
   "cell_type": "code",
   "execution_count": 16,
   "metadata": {},
   "outputs": [],
   "source": [
    "#9. Define a function named remove_vowels that accepts a string and returns a string with all the vowels\n",
    "# removed.\n",
    "\n",
    "#defining a function with a string\n",
    "def remove_vowels(word):\n",
    "    #creating a variable to show all possible vowels\n",
    "    vowels = ('a','e','i','o','u','A','E','I','O','U')\n",
    "    # creating a for loop to look at the characters in the word\n",
    "    for char in word:\n",
    "        # asking if any characters in the word are vowels\n",
    "        if char in vowels:\n",
    "            #removing the vowel if present\n",
    "            word = word.replace(char, \"\")\n",
    "            return word"
   ]
  },
  {
   "cell_type": "code",
   "execution_count": 17,
   "metadata": {},
   "outputs": [
    {
     "data": {
      "text/plain": [
       "'dg'"
      ]
     },
     "execution_count": 17,
     "metadata": {},
     "output_type": "execute_result"
    }
   ],
   "source": [
    "remove_vowels(\"dog\")"
   ]
  },
  {
   "cell_type": "code",
   "execution_count": 18,
   "metadata": {},
   "outputs": [],
   "source": [
    "#10. Define a function named normalize_name. It should accept a string and return a valid python identifier, \n",
    "# that is: anything that is not a valid python identifier should be removed\n",
    "# leading and trailing whitespace should be removed\n",
    "# everything should be lowercase\n",
    "# spaces should be replaced with underscores\n",
    "# for example:\n",
    "# Name will become name\n",
    "# First Name will become first_name\n",
    "# % Completed will become completed\n",
    "\n",
    "def normalize_name(word):\n",
    "    removing_not_valid_py_id = (word.strip(\"0123456789\").lower().replace(\" \", \"_\"))\n",
    "    remove_special_char = \"\"\n",
    "    for x in removing_not_valid_py_id:\n",
    "        if x not in \"!@#$%^&*()+=-[]{}\\/|?.<>,`~\":\n",
    "            remove_special_char += x\n",
    "    return remove_special_char"
   ]
  },
  {
   "cell_type": "code",
   "execution_count": 19,
   "metadata": {},
   "outputs": [
    {
     "data": {
      "text/plain": [
       "'__ssddwd_'"
      ]
     },
     "execution_count": 19,
     "metadata": {},
     "output_type": "execute_result"
    }
   ],
   "source": [
    "normalize_name(\"23  ssDDWd() ?}\")"
   ]
  },
  {
   "cell_type": "code",
   "execution_count": 20,
   "metadata": {},
   "outputs": [
    {
     "data": {
      "text/plain": [
       "[30, 60, 100, 150]"
      ]
     },
     "execution_count": 20,
     "metadata": {},
     "output_type": "execute_result"
    }
   ],
   "source": [
    "#11. Write a function named cumulative_sum that accepts a list of numbers and returns a list that is the \n",
    "# cumulative sum of the numbers in the list.\n",
    "# cumulative_sum([1, 1, 1]) returns [1, 2, 3]\n",
    "#cumulative_sum([1, 2, 3, 4]) returns [1, 3, 6, 10]\n",
    "\n",
    "def cumulative_sum(numbers):\n",
    "    list = []\n",
    "    length = len(list)\n",
    "    list = [sum(numbers[0:x + 1]) for x in range(len(numbers))]\n",
    "    return list[1:] \n",
    "\n",
    "cumulative_sum([10,20,30,40,50])"
   ]
  },
  {
   "cell_type": "code",
   "execution_count": 21,
   "metadata": {},
   "outputs": [
    {
     "data": {
      "text/plain": [
       "'3:14'"
      ]
     },
     "execution_count": 21,
     "metadata": {},
     "output_type": "execute_result"
    }
   ],
   "source": [
    "# Bonus Create a function named twelveto24. It should accept a string in the format 10:45am or 4:30pm and \n",
    "# return a string that is the representation of the time in a 24-hour format. Bonus write a function that \n",
    "# does the opposite.\n",
    "def twelveto24(time):\n",
    "    # Checking if last two elements of time \n",
    "    # is AM and first two elements are 12 \n",
    "    if time[-2:] == \"AM\" and time[:2] == \"12\": \n",
    "        return \"00\" + time[2:-2] \n",
    "          \n",
    "    # remove the AM     \n",
    "    elif time[-2:] == \"AM\": \n",
    "        return time[:-2] \n",
    "      \n",
    "    # Checking if last two elements of time \n",
    "    # is PM and first two elements are 12    \n",
    "    elif time[-2:] == \"PM\" and time[:2] == \"12\": \n",
    "        return time[:-2] \n",
    "          \n",
    "    else: \n",
    "        # add 12 to hours and remove PM \n",
    "        return str(int(time[:2]) + 12) + time[2:8] \n",
    "\n",
    "twelveto24(\"3:14AM\")"
   ]
  },
  {
   "cell_type": "code",
   "execution_count": null,
   "metadata": {},
   "outputs": [],
   "source": []
  },
  {
   "cell_type": "code",
   "execution_count": null,
   "metadata": {},
   "outputs": [],
   "source": []
  }
 ],
 "metadata": {
  "kernelspec": {
   "display_name": "Python 3",
   "language": "python",
   "name": "python3"
  },
  "language_info": {
   "codemirror_mode": {
    "name": "ipython",
    "version": 3
   },
   "file_extension": ".py",
   "mimetype": "text/x-python",
   "name": "python",
   "nbconvert_exporter": "python",
   "pygments_lexer": "ipython3",
   "version": "3.7.6"
  }
 },
 "nbformat": 4,
 "nbformat_minor": 4
}
